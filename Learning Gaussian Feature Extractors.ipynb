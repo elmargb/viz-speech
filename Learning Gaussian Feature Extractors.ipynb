{
 "metadata": {
  "name": "",
  "signature": "sha256:17195ad92fe0c8536f48c10bd703a8c204d90bb03739612a35fb57c67ff01ed5"
 },
 "nbformat": 3,
 "nbformat_minor": 0,
 "worksheets": [
  {
   "cells": [
    {
     "cell_type": "markdown",
     "metadata": {},
     "source": [
      "While playing around with the MNIST dataset and the [example code](https://github.com/lisa-lab/DeepLearningTutorials), I tried to visualise the weights of the connections from the weights to the hidden layer. These can be thought of as feature extractors of the input. If you've trained a denoising auto-encoder, you typically get a plot that looks something like this\n",
      "\n",
      "<img src=\"http://ufldl.stanford.edu/wiki/images/a/a3/MnistVectorizationEx.png\">\n",
      "\n",
      "What I noticed about this is that there seemed to be strokes and blobs of white pixels that are clustered together. So I wondered if we could reduce the parameters to describe these blobs to the parameters that describe a 2D Gaussian function.\n",
      "\n",
      "As it turns out, it can be done pretty easily, but I'm not sure if there's any useful application for this."
     ]
    },
    {
     "cell_type": "markdown",
     "metadata": {},
     "source": [
      "\n",
      "$$\n",
      "\\newcommand{\\precisionmat}{\\mathbf{B}}\n",
      "\\newcommand{\\pixel}{\\mathbf{p}}\n",
      "$$\n",
      "We want to learn feature extractors for the input in terms of Gaussian filters with varying width height and rotations.\n",
      "\n",
      "Let the Gaussian function be,\n",
      "\n",
      "$$ g(\\pixel;\\precisionmat,\\boldsymbol{\\mu}) = \\exp\\left(-{\\left\\| \\precisionmat (\\pixel - \\boldsymbol{\\mu}) \\right\\|}^2\\right) $$\n",
      "\n",
      "\n",
      "Then we define a weight matrix $\\mathbf{W}$ between layers such that,\n",
      "\n",
      "$$ \\underbrace{\\mathbf{W}}_{(n,h)} = \\underbrace{\\mathbf{G}}_{(n,k)} \\underbrace{\\mathbf{M}}_{(k,h)}$$\n",
      "\n",
      "where $\\mathbf{M}$ is a standard transformation matrix freely tuned by gradient descent, and $\\mathbf{G}$ is a matrix with each column representing a Gaussian filter:\n",
      "\n",
      "$$(\\mathbf{G})_{ij} = g(\\left[\\text{row}(i),\\text{col}(i)\\right];\\precisionmat_j,\\boldsymbol{\\mu}_j)$$\n",
      "\n",
      "\n",
      "where $\\text{row}(i)$ and $\\text{col}(i)$ give the row and column of input $i$. As a result, the free variables for tuning the matrix $\\mathbf{G}$ are then the matrices $\\precisionmat$\n",
      "\n",
      "In this way, $\\mathbf{W}$ represents a layer in which features are captured in the form of linear combinations of Gaussian shaped feature extractors from the input, which is assumed to have some form of two-dimensional topology.\n",
      "\n",
      "So if we were to visualise a column from $\\mathbf{G}$ in it's 2D representation:"
     ]
    },
    {
     "cell_type": "code",
     "collapsed": false,
     "input": [
      "import cPickle as pickle\n",
      "import matplotlib.cm as cm\n",
      "import matplotlib\n",
      "import matplotlib.pyplot as plt\n",
      "%matplotlib inline\n",
      "matplotlib.rcParams['savefig.dpi'] = 2* matplotlib.rcParams['savefig.dpi']\n",
      "[gaussians,weights] = pickle.load(open('mixtures.data'))\n",
      "gaussians = gaussians.T\n",
      "gaussians = gaussians.reshape((gaussians.shape[0],28,28))\n",
      "plt.axis('off')\n",
      "plt.imshow(gaussians[0],interpolation=\"nearest\",cmap=cm.gray)"
     ],
     "language": "python",
     "metadata": {},
     "outputs": [
      {
       "metadata": {},
       "output_type": "pyout",
       "prompt_number": 1,
       "text": [
        "<matplotlib.image.AxesImage at 0x7f4ec931d6d0>"
       ]
      },
      {
       "metadata": {},
       "output_type": "display_data",
       "png": "[encoded data removed]",
       "text": [
        "<matplotlib.figure.Figure at 0x7f4eaf1c0650>"
       ]
      }
     ],
     "prompt_number": 1
    },
    {
     "cell_type": "markdown",
     "metadata": {},
     "source": [
      "We can then use this matrix $\\mathbf{W}$ as we would in an autoencoder. During training, I transpose $\\mathbf{W}$. This means that whatever reconstruction it creates has to be made up of the $k$ Gaussian components that it has learnt. It learns to do this pretty well. Here is an example:"
     ]
    },
    {
     "cell_type": "code",
     "collapsed": false,
     "input": [
      "from gaussian import gaussian\n",
      "from theano_toolkit.parameters import Parameters\n",
      "import theano.tensor as T\n",
      "import theano\n",
      "import numpy as np\n",
      "P = Parameters()\n",
      "x = T.matrix('x')    # the data is presented as rasterized images\n",
      "input_size = 28 * 28\n",
      "components = 40\n",
      "hidden_size = 500\n",
      "\n",
      "rng = np.random.RandomState(1234)\n",
      "P.W_gaussians_hidden  = 4 * np.asarray(rng.uniform(\n",
      "                    low = -np.sqrt(6. / (components + hidden_size)),\n",
      "                    high=  np.sqrt(6. / (components + hidden_size)),\n",
      "                    size=(components, hidden_size)),\n",
      "                dtype=theano.config.floatX)\n",
      "P.b_hidden = np.zeros((hidden_size,), dtype=theano.config.floatX)\n",
      "P.b_recon  = np.zeros((input_size,),  dtype=theano.config.floatX)\n",
      "\n",
      "G = gaussian(P,28,28,components)\n",
      "W = T.dot(G,P.W_gaussians_hidden)\n",
      "hidden = T.nnet.sigmoid(T.dot(x,W) + P.b_hidden)\n",
      "recon  = T.nnet.sigmoid(T.dot(hidden,W.T) + P.b_recon)\n",
      "data = pickle.load(open('mnist.pkl'))\n",
      "get_filters = theano.function(inputs=[],outputs=[G,W])\n",
      "f = theano.function(inputs=[x],outputs=recon)\n",
      "P.load('ae_gaussian.model')\n",
      "plt.axis('off')\n",
      "images_all,labels = data[2]\n",
      "import random\n",
      "image = images_all[labels==8]\n",
      "idx = random.randint(0,image.shape[0])\n",
      "print idx\n",
      "image = image[153:153+1]\n",
      "recon_image = f(image).reshape(28,28)\n",
      "plt.imshow(np.hstack((image.reshape(28,28),recon_image)),interpolation=\"nearest\",cmap=cm.gray)"
     ],
     "language": "python",
     "metadata": {},
     "outputs": [
      {
       "output_type": "stream",
       "stream": "stdout",
       "text": [
        "Couldn't import dot_parser, loading of dot files will not be possible.\n",
        "716"
       ]
      },
      {
       "output_type": "stream",
       "stream": "stdout",
       "text": [
        "\n"
       ]
      },
      {
       "metadata": {},
       "output_type": "pyout",
       "prompt_number": 2,
       "text": [
        "<matplotlib.image.AxesImage at 0x7f4e989817d0>"
       ]
      },
      {
       "metadata": {},
       "output_type": "display_data",
       "png": "[encoded data removed]",
       "text": [
        "<matplotlib.figure.Figure at 0x7f4e9981a8d0>"
       ]
      }
     ],
     "prompt_number": 2
    },
    {
     "cell_type": "markdown",
     "metadata": {},
     "source": [
      "We can also visualise all of the columns in the $\\mathbf{G}$ matrix, and see what components it has learnt:"
     ]
    },
    {
     "cell_type": "code",
     "collapsed": false,
     "input": [
      "G,weights = get_filters()\n",
      "plt.axis('off')\n",
      "plt.imshow(np.hstack(np.hstack(G.T.reshape((5,8,28,28)))),interpolation=\"nearest\",cmap=cm.gray)"
     ],
     "language": "python",
     "metadata": {},
     "outputs": [
      {
       "metadata": {},
       "output_type": "pyout",
       "prompt_number": 3,
       "text": [
        "<matplotlib.image.AxesImage at 0x7f4ec931d2d0>"
       ]
      },
      {
       "metadata": {},
       "output_type": "display_data",
       "png": "[encoded data removed]",
       "text": [
        "<matplotlib.figure.Figure at 0x7f4ec931d250>"
       ]
      }
     ],
     "prompt_number": 3
    },
    {
     "cell_type": "markdown",
     "metadata": {},
     "source": [
      "The plot is a combined image of each column of $\\mathbf{G}$ being plotted on a 28 by 28 square. The 40 plots are then combined into one image of 5 rows of 8 per row.\n",
      "\n",
      "Notice that there are long blobs learnt for the right, top and bottom parts of the image. This means it's noticed that there are big continuous regions of activations or lack of activations in those areas, and has designated one of the components into modelling that."
     ]
    },
    {
     "cell_type": "markdown",
     "metadata": {},
     "source": [
      "We see that this has reduced the original model, which has 784 x 500 parameters because of the first weight matrix, to 40 * 6 + 40 * 500 (each gaussian component has 6 parameters). This is way less parameters than the original, and interestingly, the size of the paraemeters does not depend on the input data.\n",
      "\n",
      "I'm not sure what this could be useful for, but hopefully someone might find it useful."
     ]
    }
   ],
   "metadata": {}
  }
 ]
}